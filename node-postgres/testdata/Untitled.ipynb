{
 "cells": [
  {
   "cell_type": "code",
   "execution_count": 2,
   "id": "92223601-a494-4bd5-b6ad-6eeb1446c125",
   "metadata": {},
   "outputs": [
    {
     "data": {
      "image/png": "[encoded data removed]",
      "text/plain": [
       "<Figure size 640x480 with 1 Axes>"
      ]
     },
     "metadata": {},
     "output_type": "display_data"
    }
   ],
   "source": [
    "import matplotlib.pyplot as plt\n",
    "from matplotlib.patches import Rectangle, PathPatch\n",
    "from matplotlib.path import Path\n",
    "import matplotlib.patheffects as path_effects\n",
    "\n",
    "# Create a new figure\n",
    "fig, ax = plt.subplots()\n",
    "\n",
    "# Draw a simple computer screen shape\n",
    "screen = Rectangle((0.1, 0.3), 0.8, 0.5, linewidth=2, edgecolor='#007acc', facecolor='none')\n",
    "ax.add_patch(screen)\n",
    "\n",
    "# Draw a paintbrush inside the screen\n",
    "brush_path = Path([\n",
    "    (0.55, 0.55), (0.6, 0.7), (0.7, 0.65), (0.6, 0.65), \n",
    "    (0.55, 0.55), (0.55, 0.5), (0.7, 0.5), (0.7, 0.55), \n",
    "    (0.55, 0.55)], [Path.MOVETO, Path.LINETO, Path.LINETO, Path.LINETO, Path.CLOSEPOLY, Path.MOVETO, Path.LINETO, Path.LINETO, Path.CLOSEPOLY])\n",
    "brush = PathPatch(brush_path, facecolor='#00cc44', edgecolor='#007acc', linewidth=2)\n",
    "ax.add_patch(brush)\n",
    "\n",
    "# Draw a rectangle for the bottom stand\n",
    "stand = Rectangle((0.4, 0.2), 0.2, 0.1, linewidth=2, edgecolor='#007acc', facecolor='#007acc')\n",
    "ax.add_patch(stand)\n",
    "\n",
    "# Add the text \"Web Design Maker\"\n",
    "#text = ax.text(0.5, 0.1, 'Web Design Maker', ha='center', va='center', fontsize=20, color='#333333')\n",
    "#text.set_path_effects([path_effects.Stroke(linewidth=1, foreground='white'), path_effects.Normal()])\n",
    "\n",
    "# Set the limits and turn off the axes\n",
    "ax.set_xlim(0, 1)\n",
    "ax.set_ylim(0, 1)\n",
    "ax.axis('off')\n",
    "\n",
    "# Show the plot\n",
    "plt.show()"
   ]
  },
  {
   "cell_type": "code",
   "execution_count": null,
   "id": "7ebece74-0312-4003-959b-14f63b4344c7",
   "metadata": {},
   "outputs": [],
   "source": []
  }
 ],
 "metadata": {
  "kernelspec": {
   "display_name": "Python 3 (ipykernel)",
   "language": "python",
   "name": "python3"
  },
  "language_info": {
   "codemirror_mode": {
    "name": "ipython",
    "version": 3
   },
   "file_extension": ".py",
   "mimetype": "text/x-python",
   "name": "python",
   "nbconvert_exporter": "python",
   "pygments_lexer": "ipython3",
   "version": "3.12.3"
  }
 },
 "nbformat": 4,
 "nbformat_minor": 5
}
